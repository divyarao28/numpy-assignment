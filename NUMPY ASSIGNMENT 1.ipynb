{
 "cells": [
  {
   "cell_type": "code",
   "execution_count": 2,
   "id": "dece631e",
   "metadata": {},
   "outputs": [
    {
     "name": "stdout",
     "output_type": "stream",
     "text": [
      "Collecting numpyNote: you may need to restart the kernel to use updated packages.\n",
      "  Downloading numpy-1.22.0-cp39-cp39-win_amd64.whl (14.7 MB)\n",
      "Installing collected packages: numpy\n",
      "Successfully installed numpy-1.22.0\n",
      "\n"
     ]
    },
    {
     "name": "stderr",
     "output_type": "stream",
     "text": [
      "WARNING: You are using pip version 21.1.3; however, version 21.3.1 is available.\n",
      "You should consider upgrading via the 'c:\\users\\swati rao\\appdata\\local\\programs\\python\\python39\\python.exe -m pip install --upgrade pip' command.\n"
     ]
    }
   ],
   "source": [
    "pip install numpy"
   ]
  },
  {
   "cell_type": "markdown",
   "id": "c919430b",
   "metadata": {},
   "source": [
    "# Create a null vector of size 10 but the fifth value which is 1."
   ]
  },
  {
   "cell_type": "code",
   "execution_count": 1,
   "id": "9f0a3970",
   "metadata": {},
   "outputs": [
    {
     "name": "stdout",
     "output_type": "stream",
     "text": [
      "[0 0 0 0 1 0 0 0 0 0]\n"
     ]
    }
   ],
   "source": [
    "import numpy as np\n",
    "\n",
    "\n",
    "arr = np.zeros(10,dtype = int)\n",
    "arr[4] = 1\n",
    "\n",
    "print(arr)"
   ]
  },
  {
   "cell_type": "markdown",
   "id": "5245f868",
   "metadata": {},
   "source": [
    "# 2. Create a vector with values ranging from 10 to 49."
   ]
  },
  {
   "cell_type": "code",
   "execution_count": 2,
   "id": "f5eccce4",
   "metadata": {},
   "outputs": [
    {
     "data": {
      "text/plain": [
       "array([10, 11, 12, 13, 14, 15, 16, 17, 18, 19, 20, 21, 22, 23, 24, 25, 26,\n",
       "       27, 28, 29, 30, 31, 32, 33, 34, 35, 36, 37, 38, 39, 40, 41, 42, 43,\n",
       "       44, 45, 46, 47, 48, 49])"
      ]
     },
     "execution_count": 2,
     "metadata": {},
     "output_type": "execute_result"
    }
   ],
   "source": [
    "array_1 = np.arange(10,50)\n",
    "\n",
    "array_1"
   ]
  },
  {
   "cell_type": "markdown",
   "id": "5df225d8",
   "metadata": {},
   "source": [
    "# 3. Create a 3x3 matrix with values ranging from 0 to 8"
   ]
  },
  {
   "cell_type": "code",
   "execution_count": 3,
   "id": "61fae72c",
   "metadata": {},
   "outputs": [
    {
     "name": "stdout",
     "output_type": "stream",
     "text": [
      "[[0 1 2]\n",
      " [3 4 5]\n",
      " [6 7 8]]\n"
     ]
    }
   ],
   "source": [
    "array_2 = np.arange(0,9).reshape(3,3)\n",
    "\n",
    "print(array_2)\n"
   ]
  },
  {
   "cell_type": "markdown",
   "id": "f2f98b6a",
   "metadata": {},
   "source": [
    "# 4. Find indices of non-zero elements from [1,2,0,0,4,0]"
   ]
  },
  {
   "cell_type": "code",
   "execution_count": 4,
   "id": "f14c38a1",
   "metadata": {},
   "outputs": [
    {
     "name": "stdout",
     "output_type": "stream",
     "text": [
      "Original array:\n",
      "[1 2 0 0 4 0]\n",
      "\n",
      "Indices of null elements:\n",
      "(array([2, 3, 5], dtype=int64),)\n"
     ]
    }
   ],
   "source": [
    "n_array = np.array([1,2,0,0,4,0])\n",
    "\n",
    "print(\"Original array:\")\n",
    "print(n_array)\n",
    "\n",
    "# np.nonzero()\n",
    "print(\"\\nIndices of null elements:\")\n",
    "\n",
    "res = np.nonzero(n_array == 0)\n",
    "print(res)"
   ]
  },
  {
   "cell_type": "markdown",
   "id": "e9787b86",
   "metadata": {},
   "source": [
    "# 5. Create a 10x10 array with random values and find the minimum and maximum values."
   ]
  },
  {
   "cell_type": "code",
   "execution_count": 5,
   "id": "ab582643",
   "metadata": {},
   "outputs": [
    {
     "name": "stdout",
     "output_type": "stream",
     "text": [
      "the original array [[0.41102442 0.33741373 0.10868686 0.31470667 0.12436593 0.62311572\n",
      "  0.32347012 0.27959797 0.39085638 0.31585159]\n",
      " [0.96067255 0.05492936 0.81709592 0.4639806  0.83664361 0.91580296\n",
      "  0.8933716  0.33740103 0.38707534 0.24690202]\n",
      " [0.54746711 0.06877056 0.0673731  0.30096642 0.05597973 0.37906266\n",
      "  0.69298746 0.5956099  0.47128443 0.60367401]\n",
      " [0.3737498  0.14065542 0.52627254 0.49872994 0.41106766 0.58771281\n",
      "  0.3323124  0.34142466 0.73400143 0.19444909]\n",
      " [0.62250406 0.52574188 0.56771551 0.82428191 0.84520464 0.09796136\n",
      "  0.47836763 0.84116639 0.76887342 0.66221966]\n",
      " [0.91822108 0.06199337 0.40484223 0.87690933 0.84265066 0.85755635\n",
      "  0.58988847 0.86833171 0.88387317 0.08203778]\n",
      " [0.37416273 0.03484103 0.19354263 0.67354804 0.92311035 0.32583612\n",
      "  0.60115116 0.67313636 0.95438989 0.94136495]\n",
      " [0.77733713 0.05386924 0.62943553 0.71823023 0.42214129 0.68922506\n",
      "  0.49657176 0.96701641 0.68719246 0.74769863]\n",
      " [0.51883304 0.03824171 0.0701817  0.02490159 0.37989584 0.80853963\n",
      "  0.04686384 0.6387161  0.9485593  0.68632849]\n",
      " [0.61659531 0.60754162 0.14563407 0.74794405 0.49965538 0.10217019\n",
      "  0.93167268 0.59860551 0.95295181 0.62770746]]\n",
      "\n",
      "\n",
      "\n",
      "the minimum value of n_array: \n",
      " 0.024901587712280238\n",
      "\n",
      "\n",
      "\n",
      "the maximun value of n_array: \n",
      " 0.9670164054771796\n"
     ]
    }
   ],
   "source": [
    "n_array = np.random.random((10,10))\n",
    "\n",
    "print(\"the original array\",n_array)\n",
    "\n",
    "print(\"\\n\\n\")\n",
    "print(\"the minimum value of n_array: \\n\",n_array.min())\n",
    "      \n",
    "print(\"\\n\\n\")\n",
    "print(\"the maximun value of n_array: \\n\",n_array.max())"
   ]
  },
  {
   "cell_type": "markdown",
   "id": "e49b9047",
   "metadata": {},
   "source": [
    "# 6. Create a random vector of size 30 and find the mean value."
   ]
  },
  {
   "cell_type": "code",
   "execution_count": 6,
   "id": "c05c8028",
   "metadata": {},
   "outputs": [
    {
     "name": "stdout",
     "output_type": "stream",
     "text": [
      "the random array is: \n",
      " [0.0884764  0.43644601 0.67407189 0.39677537 0.32251161 0.93009299\n",
      " 0.06067572 0.62132808 0.54445602 0.07931826 0.41548733 0.02576902\n",
      " 0.41139684 0.40437236 0.40702569 0.1828397  0.01417571 0.76505948\n",
      " 0.47597295 0.39195878 0.46581036 0.88193332 0.48429612 0.86205773\n",
      " 0.56266172 0.64453372 0.94636937 0.02213184 0.78438563 0.53378881]\n",
      "\n",
      "\n",
      "the mean value of array: \n",
      "  0.4612059611271024\n"
     ]
    }
   ],
   "source": [
    "import numpy as np\n",
    "\n",
    "z = np.random.random(30)\n",
    "print(\"the random array is: \\n\",z)\n",
    "\n",
    "mean_1 = z.mean()\n",
    "print(\"\\n\\nthe mean value of array: \\n \",mean_1)"
   ]
  },
  {
   "cell_type": "code",
   "execution_count": null,
   "id": "0ec366fb",
   "metadata": {},
   "outputs": [],
   "source": []
  }
 ],
 "metadata": {
  "kernelspec": {
   "display_name": "Python 3 (ipykernel)",
   "language": "python",
   "name": "python3"
  },
  "language_info": {
   "codemirror_mode": {
    "name": "ipython",
    "version": 3
   },
   "file_extension": ".py",
   "mimetype": "text/x-python",
   "name": "python",
   "nbconvert_exporter": "python",
   "pygments_lexer": "ipython3",
   "version": "3.9.6"
  }
 },
 "nbformat": 4,
 "nbformat_minor": 5
}
